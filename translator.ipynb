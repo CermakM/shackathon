{
 "cells": [
  {
   "cell_type": "code",
   "execution_count": null,
   "metadata": {},
   "outputs": [],
   "source": [
    "import os\n",
    "import itertools"
   ]
  },
  {
   "cell_type": "code",
   "execution_count": null,
   "metadata": {},
   "outputs": [],
   "source": [
    "from selenium import webdriver\n",
    "from selenium.common.exceptions import *\n",
    "\n",
    "from selenium.webdriver.common.keys import Keys\n",
    "from selenium.webdriver.common.by import By\n",
    "from selenium.webdriver.support import expected_conditions as EC\n",
    "from selenium.webdriver.support.wait import WebDriverWait\n",
    "\n",
    "from urllib import parse\n",
    "\n",
    "import bs4"
   ]
  },
  {
   "cell_type": "markdown",
   "metadata": {},
   "source": [
    "---"
   ]
  },
  {
   "cell_type": "code",
   "execution_count": null,
   "metadata": {},
   "outputs": [],
   "source": [
    "BASE_URL = 'https://translate.google.cz/'\n",
    "DATA_DIR = 'data/'"
   ]
  },
  {
   "cell_type": "code",
   "execution_count": null,
   "metadata": {},
   "outputs": [],
   "source": [
    "def load_data(prefix='src', mode='train'):\n",
    "    data_fname = f\"{prefix}-{mode}.txt\"\n",
    "    data_fpath = os.path.join(DATA_DIR, data_fname)\n",
    "    \n",
    "    with open(data_fpath, 'r') as f:\n",
    "        data = [\n",
    "            s.strip() for s in f.readlines()\n",
    "        ]\n",
    "    \n",
    "    return data"
   ]
  },
  {
   "cell_type": "code",
   "execution_count": null,
   "metadata": {},
   "outputs": [],
   "source": [
    "CHARACTER_LIMIT = 4500\n",
    "\n",
    "def iter_chunks(data: list):\n",
    "    remaining_limit = CHARACTER_LIMIT\n",
    "    chunk = []\n",
    "    \n",
    "    for line in data:\n",
    "        chunk.append(line)\n",
    "        remaining_limit -= len(line)\n",
    "        \n",
    "        if remaining_limit <= 0:\n",
    "            yield \"\\n\".join(chunk)\n",
    "            \n",
    "            chunk = []\n",
    "            remaining_limit = CHARACTER_LIMIT\n",
    "            \n",
    "    yield \"\\n\".join(chunk)"
   ]
  },
  {
   "cell_type": "code",
   "execution_count": null,
   "metadata": {},
   "outputs": [],
   "source": [
    "def translate(query: str, from_lang='cs', to_lang='en') -> list:\n",
    "    lang_mod = f\"#{from_lang}/{to_lang}/\"\n",
    "    quoted_query = lang_mod + parse.quote(query)\n",
    "    \n",
    "    url = parse.urljoin(BASE_URL, quoted_query)\n",
    "    driver.get(url)\n",
    "    \n",
    "    translation = driver.find_element_by_id('result_box')\n",
    "    \n",
    "    return translation.text.split(sep='\\n')"
   ]
  },
  {
   "cell_type": "code",
   "execution_count": null,
   "metadata": {},
   "outputs": [],
   "source": [
    "def swap_languages():\n",
    "    WebDriverWait(driver, timeout=3).until(\n",
    "        EC.element_to_be_clickable((By.ID, 'gt-swap'))\n",
    "    )\n",
    "    \n",
    "    swap_button = driver.find_element_by_id('gt-swap')\n",
    "    swap_button.click()"
   ]
  },
  {
   "cell_type": "markdown",
   "metadata": {},
   "source": [
    "---"
   ]
  },
  {
   "cell_type": "code",
   "execution_count": null,
   "metadata": {},
   "outputs": [],
   "source": [
    "driver = webdriver.Chrome()\n",
    "driver.get(BASE_URL)\n",
    "\n",
    "driver.implicitly_wait(0.25)"
   ]
  },
  {
   "cell_type": "markdown",
   "metadata": {},
   "source": [
    "---"
   ]
  },
  {
   "cell_type": "code",
   "execution_count": null,
   "metadata": {},
   "outputs": [],
   "source": [
    "prefix = 'src'\n",
    "\n",
    "for mode in ['train', 'test', 'val']\n",
    "    data = load_data(prefix, mode)\n",
    "    \n",
    "    it = iter_chunks(data)\n",
    "    \n",
    "    tasks = itertools.chain(\n",
    "        translate(chunk, from_lang='en', to_lang='cs')\n",
    "        for chunk in it\n",
    "    )\n",
    "    \n",
    "    with open(f'data/{prefix}-{mode}-cz.txt', 'w+') as out:\n",
    "\n",
    "        for translation in tasks:\n",
    "            out.write('\\n'.join(translation))"
   ]
  },
  {
   "cell_type": "markdown",
   "metadata": {},
   "source": [
    "---"
   ]
  }
 ],
 "metadata": {
  "hide_input": false,
  "kernelspec": {
   "display_name": "Python 3",
   "language": "python",
   "name": "python3"
  },
  "language_info": {
   "codemirror_mode": {
    "name": "ipython",
    "version": 3
   },
   "file_extension": ".py",
   "mimetype": "text/x-python",
   "name": "python",
   "nbconvert_exporter": "python",
   "pygments_lexer": "ipython3",
   "version": "3.6.6"
  },
  "toc": {
   "base_numbering": 1,
   "nav_menu": {},
   "number_sections": true,
   "sideBar": true,
   "skip_h1_title": false,
   "title_cell": "Table of Contents",
   "title_sidebar": "Contents",
   "toc_cell": false,
   "toc_position": {},
   "toc_section_display": true,
   "toc_window_display": false
  }
 },
 "nbformat": 4,
 "nbformat_minor": 2
}
